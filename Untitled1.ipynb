{
  "nbformat": 4,
  "nbformat_minor": 0,
  "metadata": {
    "colab": {
      "provenance": [],
      "authorship_tag": "ABX9TyNDxZt5W198LaVaK1XEd1x7",
      "include_colab_link": true
    },
    "kernelspec": {
      "name": "python3",
      "display_name": "Python 3"
    },
    "language_info": {
      "name": "python"
    }
  },
  "cells": [
    {
      "cell_type": "markdown",
      "metadata": {
        "id": "view-in-github",
        "colab_type": "text"
      },
      "source": [
        "<a href=\"https://colab.research.google.com/github/Jahnavi0-0/FMML-Projects-and-Labs/blob/main/Untitled1.ipynb\" target=\"_parent\"><img src=\"https://colab.research.google.com/assets/colab-badge.svg\" alt=\"Open In Colab\"/></a>"
      ]
    },
    {
      "cell_type": "code",
      "execution_count": 6,
      "metadata": {
        "colab": {
          "base_uri": "https://localhost:8080/"
        },
        "id": "GITDx0F3QBNY",
        "outputId": "1cdf4379-c562-4b83-d2fe-22307d749b6f"
      },
      "outputs": [
        {
          "output_type": "stream",
          "name": "stdout",
          "text": [
            "False\n",
            "True\n",
            "True\n",
            "False\n",
            "True\n",
            "False\n",
            "4\n"
          ]
        }
      ],
      "source": [
        "#string methos\n",
        "name = \"janu\"\n",
        "print(name.startswith('a'))\n",
        "print(name.endswith('u'))\n",
        "print(name.isalpha())\n",
        "print(name.isdigit())\n",
        "print(name.isalnum())\n",
        "print(name.isdecimal())\n",
        "print(len(name))"
      ]
    },
    {
      "cell_type": "code",
      "source": [
        "# list methods\n",
        "fruits = ['apple','banana']\n",
        "new = ['cherry','strawberry']\n",
        "fruits.extend(new)\n",
        "print(fruits)\n",
        "\n",
        "fruits.append('orange')\n",
        "print(fruits)\n",
        "\n",
        "a = new.clear()\n",
        "print(new)\n",
        "\n",
        "new.insert(0,'guava')\n",
        "print(new)\n",
        "\n",
        "print(fruits[2])"
      ],
      "metadata": {
        "colab": {
          "base_uri": "https://localhost:8080/"
        },
        "id": "bBe-N5nORhyq",
        "outputId": "9335029b-c14a-48e9-eb89-9402776a62ba"
      },
      "execution_count": 16,
      "outputs": [
        {
          "output_type": "stream",
          "name": "stdout",
          "text": [
            "['apple', 'banana', 'cherry', 'strawberry']\n",
            "['apple', 'banana', 'cherry', 'strawberry', 'orange']\n",
            "[]\n",
            "['guava']\n",
            "cherry\n"
          ]
        }
      ]
    }
  ]
}